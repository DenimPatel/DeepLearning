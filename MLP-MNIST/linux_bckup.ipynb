{
 "cells": [
  {
   "cell_type": "code",
   "execution_count": 1,
   "metadata": {},
   "outputs": [],
   "source": [
    "import numpy as np\n",
    "import matplotlib.pyplot as plt"
   ]
  },
  {
   "cell_type": "code",
   "execution_count": 342,
   "metadata": {},
   "outputs": [
    {
     "name": "stdout",
     "output_type": "stream",
     "text": [
      "Hardcoded.ipynb                mnist_train_images.npy\r\n",
      "MNIST-2-layer.-reference.ipynb mnist_train_labels.npy\r\n",
      "linux_bckup.ipynb              mnist_validation_images.npy\r\n",
      "mnist_test_images.npy          mnist_validation_labels.npy\r\n",
      "mnist_test_labels.npy\r\n"
     ]
    }
   ],
   "source": [
    "!ls"
   ]
  },
  {
   "cell_type": "code",
   "execution_count": 3,
   "metadata": {},
   "outputs": [],
   "source": [
    "X_train = np.load(\"mnist_train_images.npy\")\n",
    "y_train = np.load(\"mnist_train_labels.npy\")\n",
    "X_test = np.load(\"mnist_test_images.npy\")\n",
    "y_test = np.load(\"mnist_test_labels.npy\")\n",
    "X_validation = np.load(\"mnist_validation_images.npy\")\n",
    "y_validation = np.load(\"mnist_validation_labels.npy\")"
   ]
  },
  {
   "cell_type": "code",
   "execution_count": 4,
   "metadata": {},
   "outputs": [],
   "source": [
    "w = np.random.random([X_train.shape[1], y_train.shape[1]])\n",
    "b = np.random.random([1,y_train.shape[1]])\n",
    "\n",
    "\n",
    "\n",
    "model = {\n",
    "    \"w\": w,\n",
    "    \"b\": b\n",
    "}    "
   ]
  },
  {
   "cell_type": "code",
   "execution_count": 5,
   "metadata": {},
   "outputs": [],
   "source": [
    "def softmax(z):\n",
    "#     z -= (np.max(z)/2)\n",
    "    return (np.exp(z).T / np.sum(np.exp(z), axis=1))\n",
    "\n",
    "def forward_pass(x, model):\n",
    "    w= model[\"w\"]\n",
    "    b= model[\"b\"]\n",
    "    z = (x@w+b)\n",
    "    a = softmax(z).T\n",
    "#     y = np.argmax(a, axis=1)\n",
    "    return a\n",
    "\n",
    "def calculate_CE_loss(a, one_hot_y):\n",
    "    cost = (-1 / a.shape[0]) * np.sum(one_hot_y * np.log(a))\n",
    "    return cost\n",
    "\n",
    "def calculate_regularization(w,alpha):\n",
    "    REGULARIZATION = 0.5 * alpha * (w.T@w) \n",
    "    return REGULARIZATION\n",
    "def backprop(prediction, x, y, model, alpha=0.01, lr=0.00001):\n",
    "    w= model[\"w\"]\n",
    "    b= model[\"b\"]\n",
    "    grad_w = (-1/(x.shape[0]))*(x.T@(y-prediction)) + alpha * w\n",
    "    w = w - lr*grad_w\n",
    "    grad_b = -1*np.mean(y-prediction, axis = 0)\n",
    "    b = b - lr*grad_b\n",
    "    model[\"w\"] = w\n",
    "    model[\"b\"] = b\n",
    "    return model\n",
    "def evaluate(x = X_validation, y = y_validation, model=model, alpha=0.1):\n",
    "    prediction = forward_pass(x, model)\n",
    "    CE_loss = calculate_CE_loss(prediction, y)\n",
    "    w= model[\"w\"]\n",
    "    reg_loss = calculate_regularization(w,alpha)\n",
    "    return CE_loss+reg_loss\n"
   ]
  },
  {
   "cell_type": "code",
   "execution_count": 6,
   "metadata": {},
   "outputs": [],
   "source": [
    "def accuracy(y, y_true):\n",
    "    return (sum(y == y_true)/len(y_true)) * 100\n",
    "# Hyperparameters - GRID SEARCH\n",
    "lrs = [3.3e-2]\n",
    "alphas = [0.001]\n",
    "batch_sizes = [10]\n",
    "epochs = [100]"
   ]
  },
  {
   "cell_type": "code",
   "execution_count": 7,
   "metadata": {
    "scrolled": true
   },
   "outputs": [],
   "source": [
    "def relu(x):\n",
    "    activated = np.maximum(0, x) #just for clarification\n",
    "    return activated\n",
    "def reluDerivative(x):\n",
    "    x[x<=0] = 0\n",
    "    x[x>0] = 1\n",
    "    return x"
   ]
  },
  {
   "cell_type": "code",
   "execution_count": 8,
   "metadata": {},
   "outputs": [],
   "source": [
    "i = 0\n",
    "batch_size = 1000\n",
    "data_x, data_y = X_train[(i)*batch_size:(i)*batch_size+batch_size,], y_train[(i)*batch_size:(i)*batch_size+batch_size,]\n",
    "\n"
   ]
  },
  {
   "cell_type": "code",
   "execution_count": 67,
   "metadata": {},
   "outputs": [],
   "source": [
    "def softmax(z):\n",
    "#     z -= np.max(z)\n",
    "    z = (np.array(z).T - np.max(z, axis = 1)).T\n",
    "    return (np.exp(z).T / np.sum(np.exp(z), axis=1))\n",
    "# def softmax(x):\n",
    "#     \"\"\"Compute softmax values for each sets of scores in x.\"\"\"\n",
    "#     e_x = np.exp(x - np.max(x))\n",
    "#     return (e_x / e_x.sum(axis=1)).T"
   ]
  },
  {
   "cell_type": "markdown",
   "metadata": {},
   "source": [
    "many_neurons_1 = 75\n",
    "w1 = np.random.random([data_x.shape[1], many_neurons_1])/10\n",
    "b1 = np.random.random([1,many_neurons_1])/10\n",
    "\n",
    "many_neurons_2 = 50\n",
    "w2 = np.random.random([many_neurons_1, many_neurons_2])/10\n",
    "b2 = np.random.random([1,many_neurons_2])/10\n",
    "\n",
    "# many_neurons_2 = 50\n",
    "w3 = np.random.random([many_neurons_2, data_y.shape[1]])/10\n",
    "b3 = np.random.random([1,data_y.shape[1]])/10"
   ]
  },
  {
   "cell_type": "markdown",
   "metadata": {},
   "source": [
    "## 2 hidden layer model"
   ]
  },
  {
   "cell_type": "markdown",
   "metadata": {},
   "source": [
    "many_neurons_1 = 75\n",
    "w1 = np.random.random([data_x.shape[1], many_neurons_1])/10\n",
    "b1 = np.random.random([1,many_neurons_1])/10\n",
    "\n",
    "many_neurons_2 = 50\n",
    "w2 = np.random.random([many_neurons_1, many_neurons_2])/10\n",
    "b2 = np.random.random([1,many_neurons_2])/10\n",
    "\n",
    "# many_neurons_2 = 50\n",
    "w3 = np.random.random([many_neurons_2, data_y.shape[1]])/10\n",
    "b3 = np.random.random([1,data_y.shape[1]])/10"
   ]
  },
  {
   "cell_type": "markdown",
   "metadata": {},
   "source": [
    "lrs = [3.3e-2]\n",
    "alphas = [0.001]\n",
    "batch_sizes = [100]\n",
    "epochs = [200]\n",
    "\n",
    "for lr in lrs:\n",
    "    for alpha in alphas:\n",
    "        for batch_size in batch_sizes:\n",
    "            for epoch in epochs:\n",
    "                batches = (int)(len(X_train)/batch_size)\n",
    "                for _ in range(epoch):\n",
    "                    for i in range(batches):\n",
    "                        data_x, data_y = X_train[(i)*batch_size:(i)*batch_size+batch_size,], y_train[(i)*batch_size:(i)*batch_size+batch_size,]\n",
    "                        z1 = np.dot(data_x,w1)+b1\n",
    "                        a1 = relu(z1)\n",
    "                        z2 = np.dot(a1,w2)+b2\n",
    "                        a2 = relu(z2)\n",
    "                        z3 = np.dot(a2,w3)+b3\n",
    "                        a3 = softmax(z3).T\n",
    "\n",
    "                        batch = len(data_x)\n",
    "                        g = (np.subtract(a3,data_y))\n",
    "                        db3 = np.mean(g, axis = 0) \n",
    "                        dw3 = (1/batch)* np.dot(a2.T,g)\n",
    "                        dw3 += alpha * w3\n",
    "\n",
    "                        g = np.multiply(np.dot(g,w3.T),reluDerivative(z2))\n",
    "                        db2 = np.mean(g, axis = 0)\n",
    "                        dw2 = (1/batch)* np.dot(a1.T,g)\n",
    "                        dw2 += alpha * w2\n",
    "                        \n",
    "                        g = np.multiply(np.dot(g,w2.T),reluDerivative(z1))\n",
    "                        db1 = np.mean(g, axis = 0)\n",
    "                        dw1 = (1/batch)* np.dot(data_x.T,g)\n",
    "                        dw1 +=  alpha * w1\n",
    "                        \n",
    "                        lr = 1e-2\n",
    "                        w3 -= lr*dw3\n",
    "                        w2 -= lr*dw2\n",
    "                        w1 -= lr*dw1\n",
    "\n",
    "                        b3 -= lr*db3\n",
    "                        b2 -= lr*db2\n",
    "                        b1 -= lr*db1"
   ]
  },
  {
   "cell_type": "markdown",
   "metadata": {},
   "source": [
    "## Validation data - check accuracy"
   ]
  },
  {
   "cell_type": "markdown",
   "metadata": {},
   "source": [
    "z1 = np.dot(X_validation,w1)+b1\n",
    "a1 = relu(z1)\n",
    "z2 = np.dot(a1,w2)+b2\n",
    "a2 = relu(z2)\n",
    "z3 = np.dot(a2,w3)+b3\n",
    "a3 = softmax(z3).T\n",
    "output = np.argmax(a3, axis=1)\n",
    "actual_y = np.argmax(y_validation, axis=1)\n",
    "validation_accuracy = accuracy(output,actual_y)\n",
    "print(validation_accuracy) "
   ]
  },
  {
   "cell_type": "markdown",
   "metadata": {},
   "source": [
    "## Test data - check accuracy"
   ]
  },
  {
   "cell_type": "markdown",
   "metadata": {},
   "source": [
    "z1 = np.dot(X_test,w1)+b1\n",
    "a1 = relu(z1)\n",
    "z2 = np.dot(a1,w2)+b2\n",
    "a2 = relu(z2)\n",
    "z3 = np.dot(a2,w3)+b3\n",
    "a3 = softmax(z3).T\n",
    "output = np.argmax(a3, axis=1)\n",
    "actual_y = np.argmax(y_test, axis=1)\n",
    "validation_accuracy = accuracy(output,actual_y)\n",
    "print(validation_accuracy) "
   ]
  },
  {
   "cell_type": "markdown",
   "metadata": {},
   "source": [
    "## Multilayer - How to do it??"
   ]
  },
  {
   "cell_type": "code",
   "execution_count": 9,
   "metadata": {},
   "outputs": [],
   "source": [
    "def init_params(input_size = 784, output_size=10, many_hidden_layers=4):\n",
    "    params = {}\n",
    "    nodes_in_layers = [75, 50, 25, 45, 30, 25, 20]\n",
    "    for layer in range(many_hidden_layers+1):\n",
    "        if(layer==0):\n",
    "            params[\"w\" + str(layer)]=np.random.random([input_size, nodes_in_layers[layer]])/20        \n",
    "        elif(layer==(many_hidden_layers)):\n",
    "            params[\"w\" + str(layer)]=np.random.random([nodes_in_layers[layer-1], output_size])/20\n",
    "        else:\n",
    "            params[\"w\" + str(layer)] = np.random.random([nodes_in_layers[layer-1], nodes_in_layers[layer]])/20\n",
    "\n",
    "        if(layer==0):\n",
    "            params[\"b\" + str(layer)]=np.random.random([1, nodes_in_layers[layer]])/20\n",
    "        elif(layer==(many_hidden_layers)):\n",
    "            params[\"b\" + str(layer)]=np.random.random([1, output_size])/20\n",
    "        else:\n",
    "            params[\"b\" + str(layer)] = np.random.random([1, nodes_in_layers[layer]])/20\n",
    "    return params"
   ]
  },
  {
   "cell_type": "code",
   "execution_count": 135,
   "metadata": {},
   "outputs": [],
   "source": [
    "def init_params(input_size = 784, output_size=10, many_hidden_layers=4):\n",
    "    params = {}\n",
    "    nodes_in_layers = [75, 50, 25, 45, 30, 25, 20]\n",
    "    for layer in range(many_hidden_layers+1):\n",
    "        if(layer==0):\n",
    "            c = nodes_in_layers[layer+1] ** -0.5\n",
    "            params[\"w\" + str(layer)]=np.random.uniform(-1*c/2,c/2,(input_size, nodes_in_layers[layer]))\n",
    "            \n",
    "        elif(layer==(many_hidden_layers)):\n",
    "            c = nodes_in_layers[layer+1] ** -0.5\n",
    "            params[\"w\" + str(layer)]=np.random.uniform(-1*c/2,c/2,(nodes_in_layers[layer-1], output_size))\n",
    "        else:\n",
    "            c = nodes_in_layers[layer+1] ** -0.5\n",
    "            params[\"w\" + str(layer)]=np.random.uniform(-1*c/2,c/2,(nodes_in_layers[layer-1], nodes_in_layers[layer]))\n",
    "\n",
    "        if(layer==0):\n",
    "            params[\"b\" + str(layer)]=np.full([1, nodes_in_layers[layer]], 0.1)\n",
    "        elif(layer==(many_hidden_layers)):\n",
    "            params[\"b\" + str(layer)]=np.full([1, output_size], 0.1) \n",
    "        else:\n",
    "            params[\"b\" + str(layer)] = np.full([1, nodes_in_layers[layer]], 0.1)\n",
    "    return params"
   ]
  },
  {
   "cell_type": "code",
   "execution_count": 11,
   "metadata": {},
   "outputs": [],
   "source": [
    "# forward pass with unknown depth\n",
    "# hey bhagwan!!\n",
    "def forward_pass(data_x, params, many_hidden_layers):\n",
    "    layer_cache = {}\n",
    "    z_current = data_x\n",
    "    for i in range(many_hidden_layers+1):\n",
    "    #     affine transformation\n",
    "        z_current = np.dot(z_current,params[\"w\" + str(i)]) + params[\"b\" + str(i)]\n",
    "    #     activation \n",
    "        if(i == many_hidden_layers):\n",
    "            a_current = softmax(z_current).T\n",
    "        else:\n",
    "            a_current = relu(z_current)\n",
    "#         print(\"z mean = \", z_current.mean())\n",
    "#         print(\"a mean = \",a_current.mean())\n",
    "        layer_cache[\"z\" + str(i)] = z_current;\n",
    "        layer_cache[\"a\" + str(i)] = a_current;\n",
    "    return layer_cache\n",
    "\n",
    "# x_current = softmax(x_current).T\n",
    "# output = np.argmax(x_current, axis=1)\n",
    "# actual_y = np.argmax(y_validation, axis=1)\n",
    "# validation_accuracy = accuracy(output,actual_y)\n",
    "# print(validation_accuracy) "
   ]
  },
  {
   "cell_type": "code",
   "execution_count": 12,
   "metadata": {},
   "outputs": [],
   "source": [
    "def calculate_derivatives(data_x, data_y,params, layer_cache, many_hidden_layers, alpha = 0.001):\n",
    "    derivatives = {}\n",
    "    batch = len(data_x)\n",
    "    for i in reversed(range(many_hidden_layers+1)):\n",
    "        if(i==many_hidden_layers):\n",
    "            g = (np.subtract(layer_cache[\"a\" + str(i)],data_y))\n",
    "        else:\n",
    "            g = np.multiply(np.dot(g,params[\"w\" + str(i+1)].T),reluDerivative(layer_cache[\"z\" + str(i)]))\n",
    "        derivatives[\"b\" + str(i)] = np.mean(g, axis = 0) \n",
    "        if(i==0):\n",
    "            derivatives[\"w\" + str(i)] = (1/batch)* np.dot(data_x.T,g)\n",
    "            derivatives[\"w\" + str(i)] += alpha * params[\"w\" + str(i)]\n",
    "        else:\n",
    "            derivatives[\"w\" + str(i)] = (1/batch)* np.dot(layer_cache[\"a\" + str(i-1)].T,g)\n",
    "            derivatives[\"w\" + str(i)] += alpha * params[\"w\" + str(i)]\n",
    "    return derivatives"
   ]
  },
  {
   "cell_type": "code",
   "execution_count": 93,
   "metadata": {},
   "outputs": [],
   "source": [
    "# update weights\n",
    "\n",
    "def update_weights(params, derivatives, many_hidden_layers, prev_derivatives=derivatives,lr = 1e-3):\n",
    "    for i in range(many_hidden_layers+1):\n",
    "        params[\"w\" + str(i)] -= lr*derivatives[\"w\" + str(i)]\n",
    "        params[\"b\" + str(i)] -= lr*derivatives[\"b\" + str(i)]\n",
    "    return params"
   ]
  },
  {
   "cell_type": "code",
   "execution_count": 94,
   "metadata": {},
   "outputs": [],
   "source": [
    "def calculate_accuracy(X, y,params, many_hidden_layers):\n",
    "    layer_cache = forward_pass(X, params, many_hidden_layers)\n",
    "    y_hat = layer_cache[\"a\"+str(many_hidden_layers)]\n",
    "    # x_current = softmax(y_hat).T\n",
    "    output = np.argmax(y_hat, axis=1)\n",
    "    actual_y = np.argmax(y, axis=1)\n",
    "    accuracy_val = accuracy(output,actual_y)\n",
    "    return accuracy_val  "
   ]
  },
  {
   "cell_type": "markdown",
   "metadata": {},
   "source": [
    "params = init_params(input_size = 784, output_size=10, many_hidden_layers=4)"
   ]
  },
  {
   "cell_type": "markdown",
   "metadata": {},
   "source": [
    "many_hidden_layers = 4\n",
    "for _ in range(100000):\n",
    "    layer_cache = forward_pass(data_x, params, many_hidden_layers)\n",
    "    derivatives = calculate_derivatives(data_x, data_y,params, layer_cache, many_hidden_layers, alpha = 0.001)\n",
    "    params = update_weights(params, derivatives, many_hidden_layers,lr = 1e-2)\n",
    "\n",
    "y_hat = layer_cache[\"a\"+str(many_hidden_layers)]\n",
    "# x_current = softmax(y_hat).T\n",
    "output = np.argmax(y_hat, axis=1)\n",
    "actual_y = np.argmax(data_y, axis=1)\n",
    "validation_accuracy = accuracy(output,actual_y)\n",
    "print(validation_accuracy) "
   ]
  },
  {
   "cell_type": "markdown",
   "metadata": {},
   "source": [
    "layer_cache = forward_pass(X_validation, params, many_hidden_layers)\n",
    "y_hat = layer_cache[\"a\"+str(many_hidden_layers)]\n",
    "# x_current = softmax(y_hat).T\n",
    "output = np.argmax(y_hat, axis=1)\n",
    "actual_y = np.argmax(y_validation, axis=1)\n",
    "validation_accuracy = accuracy(output,actual_y)\n",
    "print(validation_accuracy) "
   ]
  },
  {
   "cell_type": "code",
   "execution_count": 184,
   "metadata": {},
   "outputs": [],
   "source": [
    "def softmax(z):\n",
    "    z -= np.max(z)\n",
    "    return (np.exp(z).T / np.sum(np.exp(z), axis=1))\n"
   ]
  },
  {
   "cell_type": "code",
   "execution_count": null,
   "metadata": {},
   "outputs": [],
   "source": []
  },
  {
   "cell_type": "code",
   "execution_count": 330,
   "metadata": {},
   "outputs": [],
   "source": [
    "# JUGAAD for limited layers finding derivatives\n",
    "# derivatives = calculate_derivatives(data_x, data_y,params, layer_cache, many_hidden_layers, alpha = 0.001)\n",
    "def calculate_derivatives(data_x, data_y,params, layer_cache, many_hidden_layers, alpha = 0.001):\n",
    "    batch = len(data_x)\n",
    "    i = 2\n",
    "    derivatives = {}\n",
    "    g = (np.subtract(layer_cache[\"a\"+str(i)],data_y))\n",
    "    derivatives[\"b\" + str(i)] = np.mean(g, axis = 0) \n",
    "    derivatives[\"w\" + str(i)] = (1/batch)* np.dot(layer_cache[\"a\"+str(i-1)].T,g)\n",
    "    derivatives[\"w\" + str(i)] += alpha * params[\"w\"+str(i)]\n",
    "\n",
    "\n",
    "    i = 1\n",
    "    g = np.multiply(np.dot(g,params[\"w\"+str(i+1)].T),reluDerivative(layer_cache[\"z\"+str(i)]))\n",
    "    derivatives[\"b\" + str(i)] = np.mean(g, axis = 0)\n",
    "    derivatives[\"w\" + str(i)] = (1/batch)* np.dot(layer_cache[\"a\"+str(i-1)].T,g)\n",
    "    derivatives[\"w\" + str(i)] += alpha * params[\"w\"+str(i)]\n",
    "\n",
    "    i = 0\n",
    "    g = np.multiply(np.dot(g,params[\"w\"+str(i+1)].T),reluDerivative(layer_cache[\"z\"+str(i)]))\n",
    "    derivatives[\"b\" + str(i)] = np.mean(g, axis = 0)\n",
    "    derivatives[\"w\" + str(i)] = (1/batch)* np.dot(data_x.T,g)\n",
    "    derivatives[\"w\" + str(i)] +=  alpha * params[\"w\"+str(i)]\n",
    "    return derivatives\n",
    "# update weights\n",
    "\n",
    "def update_weights(params, derivatives, many_hidden_layers,lr = 1e-2):\n",
    "    for i in range(many_hidden_layers+1):\n",
    "        params[\"w\" + str(i)] -= lr*derivatives[\"w\" + str(i)]\n",
    "        params[\"b\" + str(i)] -= lr*derivatives[\"b\" + str(i)]\n",
    "    return params\n",
    "def init_params(input_size = 784, output_size=10, many_hidden_layers=4):\n",
    "    nodes_in_layers = [75, 50, 40, 30, 25, 20, 15]\n",
    "    many_neurons_1 = 50\n",
    "    layer = 0;\n",
    "    params[\"w\" + str(layer)] = np.random.random([data_x.shape[1], many_neurons_1])/10\n",
    "    params[\"b\" + str(layer)] = np.random.random([1,many_neurons_1])/10\n",
    "\n",
    "    layer = 1;\n",
    "    many_neurons_2 = 50\n",
    "    params[\"w\" + str(layer)] = np.random.random([many_neurons_1, many_neurons_2])/10\n",
    "    params[\"b\" + str(layer)] = np.random.random([1,many_neurons_2])/10\n",
    "\n",
    "    layer = 2;\n",
    "    # many_neurons_2 = 50\n",
    "    params[\"w\" + str(layer)] = np.random.random([many_neurons_2, data_y.shape[1]])/10\n",
    "    params[\"b\" + str(layer)] = np.random.random([1,data_y.shape[1]])/10\n",
    "    return params\n",
    "\n",
    "def softmax(z):\n",
    "    z -= np.max(z)\n",
    "#     z = (np.array(z).T - np.max(z, axis = 1)).T\n",
    "    return (np.exp(z).T / np.sum(np.exp(z), axis=1))\n",
    "# def forward_pass(data_x, params, many_hidden_layers):\n",
    "#     layer_cache = {}\n",
    "#     a_current = data_x\n",
    "#     for i in range(many_hidden_layers):\n",
    "#         z_current = np.dot(a_current,params[\"w\" + str(i)]) + params[\"b\" + str(i)]\n",
    "#         a_current = relu(z_current)\n",
    "#         layer_cache[\"z\" + str(i)] = z_current;\n",
    "#         layer_cache[\"a\" + str(i)] = a_current;\n",
    "#     q = many_hidden_layers\n",
    "#     z_current = np.dot(a_current,params[\"w\" + str(q)]) + params[\"b\" + str(q)]\n",
    "#     a_current = softmax(z_current).T\n",
    "#     layer_cache[\"z\" + str(q)] = z_current;\n",
    "#     layer_cache[\"a\" + str(q)] = a_current;\n",
    "#     return layer_cache\n",
    "def forward_pass(data_x, params, many_hidden_layers):\n",
    "    layer_cache = {}\n",
    "    i = 0\n",
    "    layer_cache[\"z\" + str(i)] = np.dot(data_x,params[\"w\" + str(i)])+params[\"b\" + str(i)]\n",
    "    layer_cache[\"a\" + str(i)] = relu(layer_cache[\"z\" + str(i)])\n",
    "    i = 1\n",
    "    layer_cache[\"z\" + str(i)] = np.dot(layer_cache[\"a\" + str(i-1)],params[\"w\" + str(i)])+params[\"b\" + str(i)]\n",
    "    layer_cache[\"a\" + str(i)] = relu(layer_cache[\"z\" + str(i)])\n",
    "    i = 2\n",
    "    layer_cache[\"z\" + str(i)] = np.dot(layer_cache[\"a\" + str(i-1)],params[\"w\" + str(i)])+params[\"b\" + str(i)]\n",
    "    layer_cache[\"a\" + str(i)] = softmax(layer_cache[\"z\" + str(i)]).T\n",
    "    return layer_cache\n",
    "# def init_params(input_size = 784, output_size=10, many_hidden_layers=4):\n",
    "#     params = {}\n",
    "#     many_neurons_1 = 75\n",
    "#     i = 0\n",
    "#     params[\"w\" + str(i)] = np.random.random([input_size, many_neurons_1])/10\n",
    "#     params[\"b\" + str(i)] = np.random.random([1,many_neurons_1])/10\n",
    "#     i = 1\n",
    "#     many_neurons_2 = 50\n",
    "#     params[\"w\" + str(i)] = np.random.random([many_neurons_1, many_neurons_2])/10\n",
    "#     params[\"b\" + str(i)] = np.random.random([1,many_neurons_2])/10\n",
    "#     i = 2\n",
    "#     # many_neurons_2 = 50\n",
    "#     params[\"w\" + str(i)] = np.random.random([many_neurons_2, data_y.shape[1]])/10\n",
    "#     params[\"b\" + str(i)] = np.random.random([1,output_size])/10"
   ]
  },
  {
   "cell_type": "code",
   "execution_count": 334,
   "metadata": {},
   "outputs": [],
   "source": [
    "many_hidden_layers = 2\n",
    "params =init_params(input_size = 784, output_size=10, many_hidden_layers=many_hidden_layers)\n",
    "train_acc_epoch = []\n",
    "val_acc_epoch = []\n"
   ]
  },
  {
   "cell_type": "code",
   "execution_count": 335,
   "metadata": {
    "scrolled": true
   },
   "outputs": [
    {
     "name": "stdout",
     "output_type": "stream",
     "text": [
      "best acc = 10.02  @  0\n",
      "best acc = 19.06  @  1\n",
      "best acc = 33.800000000000004  @  2\n",
      "best acc = 44.54  @  3\n",
      "best acc = 52.6  @  4\n",
      "best acc = 59.56  @  5\n",
      "best acc = 69.16  @  6\n",
      "best acc = 74.96000000000001  @  7\n",
      "best acc = 77.16  @  8\n",
      "best acc = 78.08  @  9\n",
      "best acc = 78.94  @  10\n",
      "best acc = 79.62  @  11\n",
      "best acc = 80.06  @  12\n",
      "best acc = 80.66  @  13\n",
      "best acc = 81.0  @  14\n",
      "best acc = 81.22  @  15\n",
      "best acc = 81.42  @  16\n",
      "best acc = 81.66  @  17\n",
      "best acc = 81.88  @  18\n",
      "best acc = 81.92  @  19\n",
      "best acc = 82.0  @  20\n",
      "best acc = 82.04  @  21\n",
      "best acc = 82.1  @  22\n",
      "best acc = 82.22  @  23\n",
      "best acc = 82.26  @  24\n",
      "best acc = 82.36  @  25\n",
      "best acc = 82.38  @  26\n",
      "best acc = 82.42  @  30\n",
      "best acc = 82.44  @  31\n",
      "best acc = 82.5  @  32\n",
      "best acc = 82.58  @  33\n",
      "best acc = 82.69999999999999  @  34\n",
      "best acc = 82.8  @  35\n",
      "best acc = 82.86  @  37\n",
      "best acc = 82.92  @  38\n",
      "best acc = 82.94  @  44\n",
      "best acc = 83.0  @  46\n",
      "best acc = 83.04  @  47\n"
     ]
    }
   ],
   "source": [
    "lrs = [3.3e-3]\n",
    "alphas = [0.05]\n",
    "batch_sizes = [50]\n",
    "epochs = [50]\n",
    "# epoch = 60\n",
    "best_accuracy = 0;\n",
    "for lr in lrs:\n",
    "    for alpha in alphas:\n",
    "        for batch_size in batch_sizes:\n",
    "            for epoch in epochs:\n",
    "                batches = (int)(len(X_train)/batch_size)\n",
    "                for cur_epoch in range(epoch):\n",
    "                    for i in range(batches):\n",
    "                        data_x, data_y = X_train[(i)*batch_size:(i)*batch_size+batch_size,], y_train[(i)*batch_size:(i)*batch_size+batch_size,]\n",
    "                        layer_cache = forward_pass(data_x, params, many_hidden_layers)\n",
    "                        derivatives = calculate_derivatives(data_x, data_y,params, layer_cache, many_hidden_layers, alpha = alpha)\n",
    "                        params = update_weights(params, derivatives, many_hidden_layers,lr = lr)\n",
    "\n",
    "                    train_acc = calculate_accuracy(data_x, data_y,params, many_hidden_layers)\n",
    "                    val_acc = calculate_accuracy(X_validation, y_validation,params, many_hidden_layers)\n",
    "                    train_acc_epoch = np.append(train_acc_epoch, train_acc)\n",
    "                    val_acc_epoch = np.append(val_acc_epoch, val_acc)\n",
    "                    if(val_acc>best_accuracy):\n",
    "                        best_accuracy = val_acc\n",
    "                        print(\"best acc =\", val_acc,\" @ \", cur_epoch)\n",
    "                #print(val_acc)"
   ]
  },
  {
   "cell_type": "code",
   "execution_count": 336,
   "metadata": {},
   "outputs": [
    {
     "data": {
      "image/png": "[encoded data removed]",
      "text/plain": [
       "<Figure size 432x288 with 1 Axes>"
      ]
     },
     "metadata": {
      "needs_background": "light"
     },
     "output_type": "display_data"
    }
   ],
   "source": [
    "x = np.linspace(0, len(val_acc_epoch),len(val_acc_epoch))\n",
    "plt.plot(x, val_acc_epoch,'-', label=\"validation\")\n",
    "plt.plot(x, train_acc_epoch,'--', label=\"train\")\n",
    "plt.legend(loc=\"lower right\")\n",
    "plt.ylim(0, 110)\n",
    "plt.show()"
   ]
  },
  {
   "cell_type": "code",
   "execution_count": 270,
   "metadata": {
    "scrolled": true
   },
   "outputs": [
    {
     "data": {
      "text/plain": [
       "10.32"
      ]
     },
     "execution_count": 270,
     "metadata": {},
     "output_type": "execute_result"
    }
   ],
   "source": [
    "calculate_accuracy(X_test, y_test,params, many_hidden_layers)"
   ]
  },
  {
   "cell_type": "code",
   "execution_count": 271,
   "metadata": {},
   "outputs": [
    {
     "name": "stdout",
     "output_type": "stream",
     "text": [
      "9.76\n"
     ]
    }
   ],
   "source": [
    "layer_cache = forward_pass(X_validation, params, many_hidden_layers)\n",
    "y_hat = layer_cache[\"a\"+str(many_hidden_layers)]\n",
    "# x_current = softmax(y_hat).T\n",
    "output = np.argmax(y_hat, axis=1)\n",
    "actual_y = np.argmax(y_validation, axis=1)\n",
    "validation_accuracy = accuracy(output,actual_y)\n",
    "print(validation_accuracy) "
   ]
  },
  {
   "cell_type": "code",
   "execution_count": 338,
   "metadata": {},
   "outputs": [
    {
     "data": {
      "text/plain": [
       "array([[ 0.10194213, -0.01195478,  0.03922353, ...,  0.04119096,\n",
       "        -0.01976633,  0.00063907],\n",
       "       [ 0.02103306,  0.05833214,  0.02538046, ...,  0.01762809,\n",
       "         0.02981448,  0.00351028],\n",
       "       [ 0.04568727, -0.02085826, -0.0127703 , ..., -0.01540765,\n",
       "        -0.02444906,  0.00578733],\n",
       "       ...,\n",
       "       [ 0.08433523,  0.00961607,  0.04051312, ...,  0.04035895,\n",
       "        -0.00447297,  0.0009995 ],\n",
       "       [-0.02394386,  0.10627409,  0.01373619, ...,  0.00610433,\n",
       "         0.06861395,  0.00576608],\n",
       "       [ 0.08997332, -0.05825473,  0.03089847, ...,  0.08263235,\n",
       "        -0.01367402, -0.00417524]])"
      ]
     },
     "execution_count": 338,
     "metadata": {},
     "output_type": "execute_result"
    }
   ],
   "source": [
    "params[\"w1\"]"
   ]
  },
  {
   "cell_type": "code",
   "execution_count": 343,
   "metadata": {},
   "outputs": [
    {
     "data": {
      "text/plain": [
       "array([[5.30363228e-08, 3.00482769e-07, 3.44325760e-07, ...,\n",
       "        4.26094088e-07, 2.10437857e-08, 1.53813265e-07],\n",
       "       [6.29070804e-08, 4.89103863e-07, 3.71565101e-07, ...,\n",
       "        2.12693558e-07, 2.87903270e-07, 5.26319921e-07],\n",
       "       [3.86422062e-07, 3.30723221e-07, 3.82347322e-07, ...,\n",
       "        4.97614257e-07, 5.36100882e-07, 4.86199296e-07],\n",
       "       ...,\n",
       "       [2.37017437e-07, 1.90986024e-07, 6.30915507e-08, ...,\n",
       "        5.39785744e-07, 4.29632716e-07, 5.26962466e-07],\n",
       "       [3.00041591e-07, 2.05229139e-07, 1.96571014e-07, ...,\n",
       "        5.36561223e-07, 1.50894557e-07, 3.09616915e-07],\n",
       "       [6.70588630e-08, 7.43051869e-08, 5.47903237e-07, ...,\n",
       "        1.26095723e-07, 5.56454092e-07, 3.37906551e-07]])"
      ]
     },
     "execution_count": 343,
     "metadata": {},
     "output_type": "execute_result"
    }
   ],
   "source": [
    "derivatives[\"w0\"]"
   ]
  },
  {
   "cell_type": "code",
   "execution_count": 344,
   "metadata": {},
   "outputs": [],
   "source": [
    "a=3"
   ]
  },
  {
   "cell_type": "code",
   "execution_count": 346,
   "metadata": {},
   "outputs": [],
   "source": [
    "a = np.array([1,2,4])"
   ]
  },
  {
   "cell_type": "code",
   "execution_count": 347,
   "metadata": {},
   "outputs": [
    {
     "data": {
      "text/plain": [
       "(3,)"
      ]
     },
     "execution_count": 347,
     "metadata": {},
     "output_type": "execute_result"
    }
   ],
   "source": [
    "a.shape"
   ]
  },
  {
   "cell_type": "code",
   "execution_count": null,
   "metadata": {},
   "outputs": [],
   "source": []
  }
 ],
 "metadata": {
  "kernelspec": {
   "display_name": "Python 3",
   "language": "python",
   "name": "python3"
  },
  "language_info": {
   "codemirror_mode": {
    "name": "ipython",
    "version": 3
   },
   "file_extension": ".py",
   "mimetype": "text/x-python",
   "name": "python",
   "nbconvert_exporter": "python",
   "pygments_lexer": "ipython3",
   "version": "3.7.4"
  }
 },
 "nbformat": 4,
 "nbformat_minor": 2
}
